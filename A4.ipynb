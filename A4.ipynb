{
 "cells": [
  {
   "cell_type": "markdown",
   "id": "87914d52-0f69-43be-b658-535358a648c0",
   "metadata": {},
   "source": [
    "# Motivation and problem statement\n",
    "\n",
    "I am planning to research child mortality because I want to get more insight into how the numbers of child mortality changes between countries specifically during the pandemic. I am interested in understanding what the highest and lowest mortality rates are around the world by using gender, age, and death causes. This can help us understand some underlying causes that result in mortality rates. While I work on this project I hope to get better at working with a data set that includes a lot of factors.\n",
    "\n",
    "# 1st data selected for analysis\n",
    "\n",
    "This data set looks at the number of deaths in children within the age range of <5. It includes data from around the world and is divided into age categories from 0-27 days, 1-59 months 0-4 years old. The year range for this dataset is from 2000-2021 and counts for both sexes.\n",
    "\n",
    "[Data link](https://www.who.int/data/gho/data/indicators/indicator-details/GHO/number-of-deaths)\n",
    "\n",
    "[license/terms of use for the data](https://www.who.int/about/policies/publishing/copyright)\n",
    "\n",
    "This data set will help me address my research goal since the data set includes ages, places, and death causes which will allow me to make an impactful conclusion on why child mortality is important to understand.\n",
    "\n",
    "# 2th data selected for analysis\n",
    "\n",
    "This data is on children's mortality rate specifically looking at infant mortality. It includes data from around the world and contains data collected from 1960-2022, specific locations, the mortality rate for females and males, and the total mortality rate for both genders. \n",
    "\n",
    "[Data link](https://genderdata.worldbank.org/en/indicator/sp-dyn-imrt-in?view=trend&geos=WLD)\n",
    "\n",
    "[license/terms of use for the data](https://www.worldbank.org/en/about/legal/terms-of-use-for-datasets)\n",
    "\n",
    "This data set will help me understand child mortality around the world at different periods of time as well as compare them to my first data set and how they differ. It will help me by providing useful insights like year, gender, location, and mortality rate to better understand the effects it has had over the years in specific locations.\n",
    "\n",
    "# Unknowns and dependencies\n",
    "\n",
    "Some factors that may impact the final project would be if I get sick most of the time when I do end up getting sick my body becomes very fragile and I need to rest which takes some days before I can feel better again to work. Also if there are any technical difficulties with WIFI or my electronics that can interfere with turning the assignment on time."
   ]
  },
  {
   "cell_type": "markdown",
   "id": "ba8918eb-d028-4092-ab71-a4e4998cfca3",
   "metadata": {},
   "source": [
    "# Overview \n",
    "I am planning to research child mortality because I want to get more insight into the numbers of children’s deaths in different countries while the pandemic was happening. My motivation behind researching is to have a better understanding of different geographical locations around the world. My goal for this project is to understand how the pandemic has affected child mortality around the world. Some research questions I want to explore in this project are:\n",
    "\n",
    "* What country has the highest/lowest child mortality rate?\n",
    "* What age group has the highest/lowest child mortality rate?\n",
    "* What is the highest child mortality rate per disease?\n",
    "\n",
    "# Background\n",
    "Other studies on child and infant mortality rates researchers found that [infant and child mortality has been decreasing over the years](https://ourworldindata.org/child-mortality?utm_content=bufferd49b8&utm_medium=social&utm_source=twitter.com&utm_campaign=buffer&insight=youth-mortality-rates-vary-widely-around-the-world#key-insights). However, one specific research article shows that there have still been some [hot spots as of 2017 in the Pacific regions and parts of Asia](https://ourworldindata.org/child-mortality?utm_content=bufferd49b8&utm_medium=social&utm_source=twitter.com&utm_campaign=buffer&insight=youth-mortality-rates-vary-widely-around-the-world#key-insights). Another research paper also revealed that [98% of child mortality happens in poor countries](https://www.researchgate.net/profile/Arash-Ziapour/publication/337144687_Spatial_Distribution_of_Premature_Infant_Mortality_in_2000-2017/links/5dc6d128299bf1a47b24c40f/Spatial-Distribution-of-Premature-Infant-Mortality-in-2000-2017.pdf). One of the articles shows that [countries in Africa, South America, and South Asia have had a higher number of child and infant mortality as of 2022](https://ourworldindata.org/child-mortality?utm_content=bufferd49b8&utm_medium=social&utm_source=twitter.com&utm_campaign=buffer&insight=youth-mortality-rates-vary-widely-around-the-world#key-insights) and points out that [children die by preventable causes](https://ourworldindata.org/child-mortality?utm_content=bufferd49b8&utm_medium=social&utm_source=twitter.com&utm_campaign=buffer&insight=youth-mortality-rates-vary-widely-around-the-world#key-insights). This shows that there is still more research to be done on the topic of child mortality, especially in the years after the pandemic.\n",
    "\n",
    "While researching previous studies on child mortality many research papers focused on the overall trend from the beginning of the data to the end of the data. Very little research focused on a specific time period in the data set. This has given me an interest in understanding how child/infant mortality has changed since the pandemic and also after the peak of the pandemic around the world. I noticed that a lot of research papers that contained topics about child mortality had [data that were extracted from a data set](https://www.researchgate.net/profile/Arash-Ziapour/publication/337144687_Spatial_Distribution_of_Premature_Infant_Mortality_in_2000-2017/links/5dc6d128299bf1a47b24c40f/Spatial-Distribution-of-Premature-Infant-Mortality-in-2000-2017.pdf) this is why I plan to use the same method but instead specifically focus on the years I want to research. What inspired me to pursue this specific topic was a book named [Factfulness by Hans Roslin](https://www.google.com/books/edition/Factfulness/j-4yDwAAQBAJ?hl=en&gbpv=1&pg=PA1&printsec=frontcover) where he explored the idea of how we have been misinformed by media of the world. By presenting specific facts of the world Roslin tell us that we expect the world to be worse when the in reality we are in a much better place. This made me realize that the media has distorted our view of reality so it is important to analyze with data to get a better understanding of the current state of the world.\n",
    "\n",
    "# Methodology\n",
    "For this dataset I plan to use descriptive statistics to answer the research questions. Each question will follow this plan:\n",
    "\n",
    "1. Gather the data from WHO database. This data is provided in a CSV data file. This will be loaded into the workspace in the Jupyter notebook. Once we have the information we will import the file into our Python workspace. \n",
    "1. Once in the code we will use coding techniques like creating Data Frames using Pandas and typical data manipulation to retrieve specific data like deaths, countries, age, and disease.\n",
    "1. Once we have the data seperated and prepared we will begin to extract the descriptive statistic values. For example, for the child mortality rate in a country we may loop through our data and create a dictionary where our countries are our keys and the counts are our values. \n",
    "1. After we have found the given values for our variables we would then create a infographic that will go with each research question listed. These graphics will be in the form of a bar char/plot. One of the main reseasons to do this is that we want to give readers a way to quickly spot which variables have the largest count. Note: For every question the plan is to change the color for better association with each question.\n",
    "1. I would like to repeat this similar path for each of the questions we have posed in the research questions. This will help me have a better understanding of how child mortality looks across the world. \n",
    "\n",
    "During the course of the data analysis I plan to use libraries like Pandas to help plot and show the information to users. \n",
    "\n"
   ]
  },
  {
   "cell_type": "code",
   "execution_count": null,
   "id": "42b04d31-3f82-4081-9c81-b74a9949221e",
   "metadata": {},
   "outputs": [],
   "source": []
  }
 ],
 "metadata": {
  "kernelspec": {
   "display_name": "Python 3 (ipykernel)",
   "language": "python",
   "name": "python3"
  },
  "language_info": {
   "codemirror_mode": {
    "name": "ipython",
    "version": 3
   },
   "file_extension": ".py",
   "mimetype": "text/x-python",
   "name": "python",
   "nbconvert_exporter": "python",
   "pygments_lexer": "ipython3",
   "version": "3.10.13"
  }
 },
 "nbformat": 4,
 "nbformat_minor": 5
}
